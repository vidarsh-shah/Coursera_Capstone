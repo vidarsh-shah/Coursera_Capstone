{
 "cells": [
  {
   "cell_type": "markdown",
   "metadata": {},
   "source": [
    "# Capstone Project - IBM Data Science Professional Certification\n",
    "\n",
    "### - Vidarsh Shah\n",
    "\n",
    "\n",
    "## Introduction\n",
    "\n",
    "The purpose of this project to gain knowledge of data science applications and methodology. I would use analytical approach to solve the real life problem.\n",
    "\n",
    "### Background:\n",
    "\n",
    "Ahmedabad is metro city in india with population of approx 5.57 million. So this is the best city for opportunities and growth. But it's hard to find the right area which is suitable for perticular business as this city is full of diversity. some areas are clustered with specific businesses or local markets are saturated or area is not suitable for certain kind of businesses.\n",
    "\n",
    "### Problem Statement:\n",
    "\n",
    "With this project, I would like to use analytical approach to find the best locations in Ahmedabad city which are highly compatible with the nature of business. I will take supplement factors in account depending upon the availability of the data.\n",
    "\n",
    "What if someone wants to open new multiplex cinema theater in Ahmedabad. How can I identify or shortlist the top locations to start the multiplex theater using data science? What factors should I use in my analysis?\n",
    "\n",
    "\n",
    "## Data\n",
    "\n",
    "The data for Ahmedabad district pincodes is acquired from official indian telecom website. It will be restructured in table format and filtered to get pin codes for Ahmedabad city only. That pincode data is used to get coordinates using google maps or equivalent api.\n",
    "\n",
    "To get the venues data in specific pincode, I have used forsquare api. I have passed location coordinates to foresquare api and recieved venues in return. That data will be used as input for further clustering analysis. \n",
    "\n"
   ]
  }
 ],
 "metadata": {
  "kernelspec": {
   "display_name": "Python 3",
   "language": "python",
   "name": "python3"
  },
  "language_info": {
   "codemirror_mode": {
    "name": "ipython",
    "version": 3
   },
   "file_extension": ".py",
   "mimetype": "text/x-python",
   "name": "python",
   "nbconvert_exporter": "python",
   "pygments_lexer": "ipython3",
   "version": "3.7.3"
  }
 },
 "nbformat": 4,
 "nbformat_minor": 2
}
